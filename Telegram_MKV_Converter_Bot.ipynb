{
 "nbformat": 4,
 "nbformat_minor": 0,
 "metadata": {
  "colab": {
   "provenance": [],
   "collapsed_sections": []
  },
  "kernelspec": {
   "name": "python3",
   "display_name": "Python 3"
  },
  "language_info": {
   "name": "python"
  }
 },
 "cells": [
  {
   "cell_type": "markdown",
   "metadata": {
    "id": "bot_title"
   },
   "source": [
    "# Telegram MKV to MP4 Converter Bot on Google Colab\n",
    "\n",
    "This notebook guides you through setting up and running the MKV to MP4 Telegram Bot in a Google Colab environment."
   ]
  },
  {
   "cell_type": "markdown",
   "metadata": {
    "id": "ffmpeg_install_markdown"
   },
   "source": [
    "## 1. Install FFmpeg\n",
    "\n",
    "First, we need to install FFmpeg, which is the software that handles video conversion."
   ]
  },
  {
   "cell_type": "code",
   "execution_count": null,
   "metadata": {
    "id": "ffmpeg_install_code"
   },
   "outputs": [],
   "source": [
    "!apt-get update && apt-get install -y ffmpeg"
   ]
  },
  {
   "cell_type": "markdown",
   "metadata": {
    "id": "get_code_markdown"
   },
   "source": [
    "## 2. Get the Bot Code\n",
    "\n",
    "You need to get the `bot.py` and `requirements.txt` files into your Colab environment.\n",
    "\n",
    "**Option A: Clone from GitHub (Recommended)**\n",
    "If your code is in a GitHub repository, uncomment and run the following cell. Replace `YOUR_USERNAME/YOUR_REPOSITORY.git` with the actual URL of your repository."
   ]
  },
  {
   "cell_type": "code",
   "execution_count": null,
   "metadata": {
    "id": "git_clone_code"
   },
   "outputs": [],
   "source": [
    "# !git clone https://github.com/YOUR_USERNAME/YOUR_REPOSITORY.git\n",
    "# %cd YOUR_REPOSITORY"
   ]
  },
  {
   "cell_type": "markdown",
   "metadata": {
    "id": "upload_manual_markdown"
   },
   "source": [
    "**Option B: Upload Files Manually**\n",
    "1. In the left sidebar, click on the \"Files\" icon (folder icon).\n",
    "2. Click the \"Upload to session storage\" button (upward arrow icon).\n",
    "3. Upload your `bot.py` and `requirements.txt` files.\n",
    "   Make sure they are in the root directory of your Colab session (e.g., `/content/`). If you cloned a repository, they should be inside that repository's folder."
   ]
  },
  {
   "cell_type": "markdown",
   "metadata": {
    "id": "pip_install_markdown"
   },
   "source": [
    "## 3. Install Python Dependencies\n",
    "\n",
    "Next, install the required Python libraries listed in `requirements.txt`."
   ]
  },
  {
   "cell_type": "code",
   "execution_count": null,
   "metadata": {
    "id": "pip_install_code"
   },
   "outputs": [],
   "source": [
    "!pip install -r requirements.txt"
   ]
  },
  {
   "cell_type": "markdown",
   "metadata": {
    "id": "set_token_markdown"
   },
   "source": [
    "## 4. Set Up Telegram Bot Token\n",
    "\n",
    "Your bot needs a Telegram Bot Token to authenticate with the Telegram API. The recommended way to handle secrets in Colab is using the built-in secrets manager.\n",
    "\n",
    "1. Click the **key icon (🔑)** in the left sidebar of Colab.\n",
    "2. Click \"Add new secret\".\n",
    "3. For the **Name**, enter `TELEGRAM_BOT_TOKEN`.\n",
    "4. For the **Value**, paste your actual Telegram Bot Token (obtainable from BotFather).\n",
    "5. Make sure **Notebook access** is toggled ON for this secret.\n",
    "\n",
    "The following cell will attempt to load this secret and set it as an environment variable, which the `bot.py` script expects."
   ]
  },
  {
   "cell_type": "code",
   "execution_count": null,
   "metadata": {
    "id": "set_token_code"
   },
   "outputs": [],
   "source": [
    "from google.colab import userdata\n",
    "import os\n",
    "\n",
    "TELEGRAM_BOT_TOKEN = userdata.get('TELEGRAM_BOT_TOKEN')\n",
    "\n",
    "if TELEGRAM_BOT_TOKEN:\n",
    "    os.environ['TELEGRAM_BOT_TOKEN'] = TELEGRAM_BOT_TOKEN\n",
    "    print(\"TELEGRAM_BOT_TOKEN has been set from Colab secrets.\")\n",
    "else:\n",
    "    print(\"TELEGRAM_BOT_TOKEN not found in Colab secrets.\")\n",
    "    print(\"Please add it via the key icon (🔑) in the left sidebar and then re-run this cell.\")\n",
    "    print(\"Alternatively, you can set it manually for this session (less secure if notebook is shared):\")\n",
    "    # os.environ['TELEGRAM_BOT_TOKEN'] = 'YOUR_TOKEN_HERE' # Uncomment and replace if using this method"
   ]
  },
  {
   "cell_type": "markdown",
   "metadata": {
    "id": "run_bot_markdown"
   },
   "source": [
    "## 5. Run the Bot\n",
    "\n",
    "Once all the above steps are completed and the `TELEGRAM_BOT_TOKEN` is set, you can run the bot.\n",
    "\n",
    "The bot will keep running in this cell. To stop it, you'll need to interrupt the execution of the cell (click the stop icon next to the cell) or interrupt/restart the Colab runtime."
   ]
  },
  {
   "cell_type": "code",
   "execution_count": null,
   "metadata": {
    "id": "run_bot_code"
   },
   "outputs": [],
   "source": [
    "import os\n",
    "\n",
    "if os.getenv('TELEGRAM_BOT_TOKEN'):\n",
    "    print(\"Starting bot... (This cell will run indefinitely. Interrupt to stop.)\")\n",
    "    !python bot.py\n",
    "else:\n",
    "    print(\"Bot cannot start: TELEGRAM_BOT_TOKEN is not set. Please complete Step 4.\")"
   ]
  },
  {
   "cell_type": "markdown",
   "metadata": {
    "id": "colab_considerations_markdown"
   },
   "source": [
    "## Important Considerations for Colab\n",
    "\n",
    "*   **Runtime Limits:** Colab runtimes are not permanent. If the Colab runtime disconnects (due to inactivity, browser closure, or session limits imposed by Google Colab), your bot will stop. For a continuously running bot, Colab is generally not the ideal solution; you would typically use a Virtual Private Server (VPS) or a Platform-as-a-Service (PaaS).\n",
    "*   **Streaming & Resource Limits:** The bot now uses streaming to handle larger files more efficiently by reducing disk and memory usage. However, Google Colab still has overall resource limitations (CPU, RAM, processing time per session). Very large or complex conversions might still hit these limits, causing the process to fail or the runtime to disconnect. The bot will attempt to inform you if a file seems excessively large.\n",
    "*   **Temporary Storage:** The bot no longer creates a `temp` directory for intermediate full file downloads/uploads, as processing is stream-based. This further reduces disk space concerns on Colab.\n",
    "*   **Stopping the Bot:** To stop the bot, you need to interrupt the execution of the cell where `!python bot.py` is running. You can do this by clicking the stop icon next to the cell, or by going to \"Runtime\" in the Colab menu and selecting \"Interrupt execution\" (or \"Restart runtime\").\n",
    "*   **Secrets Management:** While using Colab's secrets manager is good practice for tokens, remember that if you share your notebook (`.ipynb` file) directly, the *code* to access the secret is visible, though the secret value itself is not stored in the notebook file."
   ]
  }
 ]
}
