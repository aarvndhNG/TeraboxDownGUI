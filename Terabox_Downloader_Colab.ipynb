{
  "nbformat": 4,
  "nbformat_minor": 0,
  "metadata": {
    "colab": {
      "provenance": [],
      "collapsed_sections": []
    },
    "kernelspec": {
      "name": "python3",
      "display_name": "Python 3"
    },
    "language_info": {
      "name": "python"
    }
  },
  "cells": [
    {
      "cell_type": "markdown",
      "metadata": {
        "id": "terabox-header"
      },
      "source": [
        "# 📥 Terabox Downloader for Google Colab\n",
        "\n",
        "This notebook allows you to download files from Terabox share links directly in Google Colab.\n",
        "\n",
        "**Features:**\n",
        "- Download files from Terabox share URLs\n",
        "- Progress tracking\n",
        "- Batch downloads\n",
        "- Files saved to `/content/downloads/`\n"
      ]
    },
    {
      "cell_type": "markdown",
      "metadata": {
        "id": "setup-section"
      },
      "source": [
        "## 🔧 Setup\n",
        "Run this cell first to install required packages and set up the environment."
      ]
    },
    {
      "cell_type": "code",
      "execution_count": null,
      "metadata": {
        "id": "setup-cell"
      },
      "outputs": [],
      "source": [
        "# Install required packages\n",
        "!pip install requests pillow\n",
        "\n",
        "# Create downloads directory\n",
        "import os\n",
        "os.makedirs('/content/downloads', exist_ok=True)\n",
        "\n",
        "print(\"✅ Setup complete!\")"
      ]
    },
    {
      "cell_type": "markdown",
      "metadata": {
        "id": "core-classes"
      },
      "source": [
        "## 📚 Core Classes\n",
        "This cell contains the main downloader classes."
      ]
    },
    {
      "cell_type": "code",
      "execution_count": null,
      "metadata": {
        "id": "core-code"
      },
      "outputs": [],
      "source": [
        "import requests\n",
        "import json\n",
        "import re\n",
        "import os\n",
        "import time\n",
        "from urllib.parse import urlparse, parse_qs\n",
        "from datetime import datetime\n",
        "\n",
        "class TeraboxAPI:\n",
        "    def __init__(self):\n",
        "        self.session = requests.Session()\n",
        "        self.session.headers.update({\n",
        "            'User-Agent': 'Mozilla/5.0 (Windows NT 10.0; Win64; x64) AppleWebKit/537.36 (KHTML, like Gecko) Chrome/91.0.4472.124 Safari/537.36'\n",
        "        })\n",
        "        self.primary_api_url = \"https://ashlynn.serv00.net/Ashlynnterabox.php\"\n",
        "        \n",
        "    def get_file_info(self, terabox_url):\n",
        "        try:\n",
        "            params = {'url': terabox_url}\n",
        "            response = self.session.get(self.primary_api_url, params=params, timeout=30)\n",
        "            response.raise_for_status()\n",
        "            \n",
        "            if response.headers.get('content-type', '').startswith('application/json'):\n",
        "                data = response.json()\n",
        "            else:\n",
        "                try:\n",
        "                    data = json.loads(response.text)\n",
        "                except:\n",
        "                    return self._parse_html_response(response.text, terabox_url)\n",
        "                    \n",
        "            return self._parse_json_response(data, terabox_url)\n",
        "            \n",
        "        except Exception as e:\n",
        "            print(f\"API Error: {e}\")\n",
        "            return None\n",
        "            \n",
        "    def _parse_json_response(self, data, original_url):\n",
        "        try:\n",
        "            if isinstance(data, dict):\n",
        "                download_url = None\n",
        "                filename = None\n",
        "                file_size = None\n",
        "                \n",
        "                # Try different field names for download URL\n",
        "                for field in ['download_url', 'url', 'direct_url', 'link', 'dlink']:\n",
        "                    if field in data and data[field]:\n",
        "                        download_url = data[field]\n",
        "                        break\n",
        "                        \n",
        "                # Try different field names for filename\n",
        "                for field in ['filename', 'name', 'title', 'server_filename']:\n",
        "                    if field in data and data[field]:\n",
        "                        filename = data[field]\n",
        "                        break\n",
        "                        \n",
        "                # Try different field names for size\n",
        "                for field in ['size', 'file_size', 'filesize']:\n",
        "                    if field in data and data[field]:\n",
        "                        file_size = data[field]\n",
        "                        break\n",
        "                        \n",
        "                if download_url:\n",
        "                    return {\n",
        "                        'download_url': download_url,\n",
        "                        'filename': filename or self._extract_filename_from_url(download_url),\n",
        "                        'size': file_size,\n",
        "                        'size_formatted': self._format_file_size(file_size) if file_size else 'Unknown',\n",
        "                        'original_url': original_url\n",
        "                    }\n",
        "                    \n",
        "        except Exception as e:\n",
        "            print(f\"JSON parsing error: {e}\")\n",
        "            \n",
        "        return None\n",
        "        \n",
        "    def _parse_html_response(self, html_content, original_url):\n",
        "        try:\n",
        "            patterns = [\n",
        "                r'href=\"([^\"]*terabox[^\"]*\")',\n",
        "                r'\"download_url\":\"([^\"]*\")',\n",
        "                r'\"url\":\"([^\"]*\")'\n",
        "            ]\n",
        "            \n",
        "            for pattern in patterns:\n",
        "                matches = re.findall(pattern, html_content, re.IGNORECASE)\n",
        "                if matches:\n",
        "                    download_url = matches[0]\n",
        "                    if self._is_valid_download_url(download_url):\n",
        "                        return {\n",
        "                            'download_url': download_url,\n",
        "                            'filename': self._extract_filename_from_url(download_url),\n",
        "                            'size': None,\n",
        "                            'size_formatted': 'Unknown',\n",
        "                            'original_url': original_url\n",
        "                        }\n",
        "        except Exception as e:\n",
        "            print(f\"HTML parsing error: {e}\")\n",
        "            \n",
        "        return None\n",
        "        \n",
        "    def _is_valid_download_url(self, url):\n",
        "        try:\n",
        "            parsed = urlparse(url)\n",
        "            return parsed.scheme in ['http', 'https'] and parsed.netloc\n",
        "        except:\n",
        "            return False\n",
        "            \n",
        "    def _extract_filename_from_url(self, url):\n",
        "        try:\n",
        "            parsed = urlparse(url)\n",
        "            filename = parsed.path.split('/')[-1] if '/' in parsed.path else parsed.path\n",
        "            return filename if filename and '.' in filename else f\"terabox_file_{int(time.time())}.bin\"\n",
        "        except:\n",
        "            return f\"terabox_file_{int(time.time())}.bin\"\n",
        "            \n",
        "    def _format_file_size(self, size):\n",
        "        try:\n",
        "            if isinstance(size, str):\n",
        "                numbers = re.findall(r'\\d+\\.?\\d*', size)\n",
        "                if numbers:\n",
        "                    size = float(numbers[0])\n",
        "                    if 'GB' in size.upper():\n",
        "                        size *= 1024 * 1024 * 1024\n",
        "                    elif 'MB' in size.upper():\n",
        "                        size *= 1024 * 1024\n",
        "                    elif 'KB' in size.upper():\n",
        "                        size *= 1024\n",
        "                        \n",
        "            if isinstance(size, (int, float)):\n",
        "                if size >= 1024 * 1024 * 1024:\n",
        "                    return f\"{size / (1024 * 1024 * 1024):.2f} GB\"\n",
        "                elif size >= 1024 * 1024:\n",
        "                    return f\"{size / (1024 * 1024):.2f} MB\"\n",
        "                elif size >= 1024:\n",
        "                    return f\"{size / 1024:.2f} KB\"\n",
        "                else:\n",
        "                    return f\"{size} B\"\n",
        "        except:\n",
        "            pass\n",
        "            \n",
        "        return str(size) if size else 'Unknown'\n",
        "\n",
        "class URLValidator:\n",
        "    def __init__(self):\n",
        "        self.terabox_domains = [\n",
        "            'terabox.com', 'www.terabox.com', '1024terabox.com',\n",
        "            'teraboxapp.com', 'nephobox.com', 'dubox.com', '4funbox.com'\n",
        "        ]\n",
        "        \n",
        "    def is_valid_terabox_url(self, url):\n",
        "        try:\n",
        "            parsed = urlparse(url.lower())\n",
        "            return any(domain in parsed.netloc for domain in self.terabox_domains) and ('/s/' in parsed.path or 'surl=' in parsed.query)\n",
        "        except:\n",
        "            return False\n",
        "\n",
        "class ColabTeraboxDownloader:\n",
        "    def __init__(self):\n",
        "        self.api = TeraboxAPI()\n",
        "        self.validator = URLValidator()\n",
        "        \n",
        "    def download_file(self, terabox_url, download_path=\"/content/downloads\"):\n",
        "        print(f\"🔗 Processing URL: {terabox_url}\")\n",
        "        \n",
        "        if not self.validator.is_valid_terabox_url(terabox_url):\n",
        "            print(\"❌ Invalid Terabox URL\")\n",
        "            return False, \"Invalid Terabox URL\"\n",
        "        \n",
        "        print(\"📡 Getting file information...\")\n",
        "        file_info = self.api.get_file_info(terabox_url)\n",
        "        \n",
        "        if not file_info:\n",
        "            print(\"❌ Could not extract download link\")\n",
        "            return False, \"Could not extract download link\"\n",
        "        \n",
        "        os.makedirs(download_path, exist_ok=True)\n",
        "        \n",
        "        download_url = file_info['download_url']\n",
        "        filename = file_info.get('filename', 'downloaded_file')\n",
        "        filepath = os.path.join(download_path, filename)\n",
        "        \n",
        "        print(f\"📁 Downloading: {filename}\")\n",
        "        print(f\"📊 Size: {file_info.get('size_formatted', 'Unknown')}\")\n",
        "        \n",
        "        try:\n",
        "            response = requests.get(download_url, stream=True)\n",
        "            response.raise_for_status()\n",
        "            \n",
        "            total_size = int(response.headers.get('content-length', 0))\n",
        "            downloaded = 0\n",
        "            \n",
        "            with open(filepath, 'wb') as f:\n",
        "                for chunk in response.iter_content(chunk_size=8192):\n",
        "                    if chunk:\n",
        "                        f.write(chunk)\n",
        "                        downloaded += len(chunk)\n",
        "                        \n",
        "                        if total_size > 0:\n",
        "                            progress = (downloaded / total_size) * 100\n",
        "                            print(f\"\\r⏳ Progress: {progress:.1f}%\", end=\"\", flush=True)\n",
        "            \n",
        "            print(f\"\\n✅ Download complete: {filepath}\")\n",
        "            print(f\"📂 File saved to: {filepath}\")\n",
        "            return True, filepath\n",
        "            \n",
        "        except Exception as e:\n",
        "            print(f\"\\n❌ Download failed: {str(e)}\")\n",
        "            return False, f\"Download failed: {str(e)}\"\n",
        "    \n",
        "    def download_multiple(self, urls):\n",
        "        print(f\"📥 Starting batch download of {len(urls)} files...\")\n",
        "        results = []\n",
        "        \n",
        "        for i, url in enumerate(urls, 1):\n",
        "            print(f\"\\n[{i}/{len(urls)}] Processing...\")\n",
        "            success, result = self.download_file(url)\n",
        "            results.append((url, success, result))\n",
        "            \n",
        "            if i < len(urls):\n",
        "                time.sleep(1)  # Small delay between downloads\n",
        "        \n",
        "        # Summary\n",
        "        successful = sum(1 for _, success, _ in results if success)\n",
        "        print(f\"\\n📋 Batch download complete: {successful}/{len(urls)} successful\")\n",
        "        \n",
        "        return results\n",
        "\n",
        "# Create downloader instance\n",
        "downloader = ColabTeraboxDownloader()\n",
        "print(\"🚀 Terabox Downloader ready!\")"
      ]
    },
    {
      "cell_type": "markdown",
      "metadata": {
        "id": "usage-section"
      },
      "source": [
        "## 🚀 Usage Examples\n",
        "\n",
        "### Single File Download\n",
        "Replace the URL with your Terabox share link:"
      ]
    },
    {
      "cell_type": "code",
      "execution_count": null,
      "metadata": {
        "id": "single-download"
      },
      "outputs": [],
      "source": [
        "# Single file download\n",
        "terabox_url = \"https://terabox.com/s/your-share-link-here\"\n",
        "\n",
        "success, result = downloader.download_file(terabox_url)\n",
        "\n",
        "if success:\n",
        "    print(f\"File downloaded to: {result}\")\n",
        "else:\n",
        "    print(f\"Download failed: {result}\")"
      ]
    },
    {
      "cell_type": "markdown",
      "metadata": {
        "id": "batch-section"
      },
      "source": [
        "### Batch Download\n",
        "Download multiple files at once:"
      ]
    },
    {
      "cell_type": "code",
      "execution_count": null,
      "metadata": {
        "id": "batch-download"
      },
      "outputs": [],
      "source": [
        "# Batch download\n",
        "urls = [\n",
        "    \"https://terabox.com/s/link1\",\n",
        "    \"https://terabox.com/s/link2\",\n",
        "    \"https://terabox.com/s/link3\"\n",
        "]\n",
        "\n",
        "results = downloader.download_multiple(urls)\n",
        "\n",
        "# Show detailed results\n",
        "for url, success, result in results:\n",
        "    status = \"✅\" if success else \"❌\"\n",
        "    print(f\"{status} {url}: {result}\")"
      ]
    },
    {
      "cell_type": "markdown",
      "metadata": {
        "id": "files-section"
      },
      "source": [
        "## 📂 View Downloaded Files\n",
        "Check what files have been downloaded:"
      ]
    },
    {
      "cell_type": "code",
      "execution_count": null,
      "metadata": {
        "id": "view-files"
      },
      "outputs": [],
      "source": [
        "# List downloaded files\n",
        "import os\n",
        "from IPython.display import display, HTML\n",
        "\n",
        "download_dir = \"/content/downloads\"\n",
        "\n",
        "if os.path.exists(download_dir):\n",
        "    files = os.listdir(download_dir)\n",
        "    if files:\n",
        "        print(f\"📁 Downloaded files ({len(files)} total):\")\n",
        "        for file in files:\n",
        "            filepath = os.path.join(download_dir, file)\n",
        "            size = os.path.getsize(filepath)\n",
        "            size_mb = size / (1024 * 1024)\n",
        "            print(f\"  📄 {file} ({size_mb:.2f} MB)\")\n",
        "    else:\n",
        "        print(\"📭 No files downloaded yet\")\n",
        "else:\n",
        "    print(\"📂 Downloads directory not found\")\n",
        "\n",
        "# Show disk usage\n",
        "!du -sh /content/downloads 2>/dev/null || echo \"Downloads folder is empty\""
      ]
    },
    {
      "cell_type": "markdown",
      "metadata": {
        "id": "download-section"
      },
      "source": [
        "## 💾 Download Files to Your Computer\n",
        "Download the files from Colab to your local computer:"
      ]
    },
    {
      "cell_type": "code",
      "execution_count": null,
      "metadata": {
        "id": "download-local"
      },
      "outputs": [],
      "source": [
        "# Create a zip file of all downloads\n",
        "import zipfile\n",
        "from google.colab import files\n",
        "\n",
        "download_dir = \"/content/downloads\"\n",
        "zip_path = \"/content/terabox_downloads.zip\"\n",
        "\n",
        "if os.path.exists(download_dir) and os.listdir(download_dir):\n",
        "    with zipfile.ZipFile(zip_path, 'w') as zipf:\n",
        "        for file in os.listdir(download_dir):\n",
        "            file_path = os.path.join(download_dir, file)\n",
        "            zipf.write(file_path, file)\n",
        "    \n",
        "    print(f\"📦 Created zip file: {zip_path}\")\n",
        "    print(\"⬇️ Downloading to your computer...\")\n",
        "    files.download(zip_path)\n",
        "else:\n",
        "    print(\"❌ No files to download\")"
      ]
    },
    {
      "cell_type": "markdown",
      "metadata": {
        "id": "notes-section"
      },
      "source": [
        "## 📝 Notes\n",
        "\n",
        "- **File Location**: All downloaded files are saved to `/content/downloads/`\n",
        "- **File Persistence**: Files will be deleted when the Colab session ends\n",
        "- **Download Limit**: Colab has storage limits (usually ~78GB)\n",
        "- **API Reliability**: Uses free Terabox API services which may have limitations\n",
        "- **Network Speed**: Download speed depends on Colab's internet connection\n",
        "\n",
        "### Troubleshooting\n",
        "- If downloads fail, try running the setup cell again\n",
        "- Ensure your Terabox URLs are valid share links\n",
        "- Check that the files aren't too large for Colab's storage\n"
      ]
    }
  ]
}
